{
 "cells": [
  {
   "cell_type": "markdown",
   "metadata": {},
   "source": [
    "# Convert hexagonal cameras into square grid and back"
   ]
  },
  {
   "cell_type": "code",
   "execution_count": 1,
   "metadata": {
    "execution": {
     "iopub.execute_input": "2020-12-29T15:01:19.587762Z",
     "iopub.status.busy": "2020-12-29T15:01:19.587228Z",
     "iopub.status.idle": "2020-12-29T15:01:21.287853Z",
     "shell.execute_reply": "2020-12-29T15:01:21.287177Z"
    }
   },
   "outputs": [
    {
     "name": "stderr",
     "output_type": "stream",
     "text": [
      "/usr/local/lib/python3.8/site-packages/setuptools_scm/git.py:68: UserWarning: \"/github/workspace\" is shallow and may cause errors\n",
      "  warnings.warn('\"{}\" is shallow and may cause errors'.format(wd.path))\n"
     ]
    }
   ],
   "source": [
    "from ctapipe.utils import get_dataset_path\n",
    "from ctapipe.image.geometry_converter import convert_geometry_hex1d_to_rect2d, convert_geometry_rect2d_back_to_hexe1d\n",
    "from ctapipe.visualization import CameraDisplay\n",
    "from ctapipe.io import EventSource\n",
    "import copy\n",
    "import matplotlib.pyplot as plt"
   ]
  },
  {
   "cell_type": "markdown",
   "metadata": {},
   "source": [
    "## Setup"
   ]
  },
  {
   "cell_type": "code",
   "execution_count": 2,
   "metadata": {
    "execution": {
     "iopub.execute_input": "2020-12-29T15:01:21.292562Z",
     "iopub.status.busy": "2020-12-29T15:01:21.291928Z",
     "iopub.status.idle": "2020-12-29T15:01:21.295523Z",
     "shell.execute_reply": "2020-12-29T15:01:21.295071Z"
    }
   },
   "outputs": [],
   "source": [
    "filename = get_dataset_path('gamma_test_large.simtel.gz')"
   ]
  },
  {
   "cell_type": "code",
   "execution_count": 3,
   "metadata": {
    "execution": {
     "iopub.execute_input": "2020-12-29T15:01:21.299574Z",
     "iopub.status.busy": "2020-12-29T15:01:21.299033Z",
     "iopub.status.idle": "2020-12-29T15:01:22.197594Z",
     "shell.execute_reply": "2020-12-29T15:01:22.197028Z"
    }
   },
   "outputs": [],
   "source": [
    "source = EventSource(filename, max_events=10, allowed_tels={1})"
   ]
  },
  {
   "cell_type": "code",
   "execution_count": 4,
   "metadata": {
    "execution": {
     "iopub.execute_input": "2020-12-29T15:01:22.204233Z",
     "iopub.status.busy": "2020-12-29T15:01:22.203676Z",
     "iopub.status.idle": "2020-12-29T15:01:24.768579Z",
     "shell.execute_reply": "2020-12-29T15:01:24.769210Z"
    }
   },
   "outputs": [],
   "source": [
    "events = [copy.deepcopy(event) for event in source]"
   ]
  },
  {
   "cell_type": "code",
   "execution_count": 5,
   "metadata": {
    "execution": {
     "iopub.execute_input": "2020-12-29T15:01:24.773249Z",
     "iopub.status.busy": "2020-12-29T15:01:24.772693Z",
     "iopub.status.idle": "2020-12-29T15:01:24.776286Z",
     "shell.execute_reply": "2020-12-29T15:01:24.775821Z"
    }
   },
   "outputs": [],
   "source": [
    "event = events[0]"
   ]
  },
  {
   "cell_type": "code",
   "execution_count": 6,
   "metadata": {
    "execution": {
     "iopub.execute_input": "2020-12-29T15:01:24.887157Z",
     "iopub.status.busy": "2020-12-29T15:01:24.791362Z",
     "iopub.status.idle": "2020-12-29T15:01:25.172326Z",
     "shell.execute_reply": "2020-12-29T15:01:25.172797Z"
    }
   },
   "outputs": [
    {
     "data": {
      "text/plain": [
       "<ctapipe.visualization.mpl_camera.CameraDisplay at 0x7f818d13fe50>"
      ]
     },
     "execution_count": 1,
     "metadata": {},
     "output_type": "execute_result"
    }
   ],
   "source": [
    "geometry = source.subarray.tel[1].camera.geometry\n",
    "image = event.r0.tel[1].waveform[0].sum(axis=1)\n",
    "CameraDisplay(geometry, image)"
   ]
  },
  {
   "cell_type": "markdown",
   "metadata": {},
   "source": [
    "## Conversion into square geometry"
   ]
  },
  {
   "cell_type": "markdown",
   "metadata": {},
   "source": [
    "**A key must be speficied to be able to convert back to hexagonal afterwards**   \n",
    "The conversion geometry is stored in `ctapipe.image.geometry_convert.rot_buffer`"
   ]
  },
  {
   "cell_type": "code",
   "execution_count": 7,
   "metadata": {
    "execution": {
     "iopub.execute_input": "2020-12-29T15:01:25.181323Z",
     "iopub.status.busy": "2020-12-29T15:01:25.176651Z",
     "iopub.status.idle": "2020-12-29T15:01:25.690662Z",
     "shell.execute_reply": "2020-12-29T15:01:25.690155Z"
    }
   },
   "outputs": [],
   "source": [
    "key = 0\n",
    "square_geom, square_image = convert_geometry_hex1d_to_rect2d(geometry, image, key=key)"
   ]
  },
  {
   "cell_type": "code",
   "execution_count": 8,
   "metadata": {
    "execution": {
     "iopub.execute_input": "2020-12-29T15:01:25.695623Z",
     "iopub.status.busy": "2020-12-29T15:01:25.694279Z",
     "iopub.status.idle": "2020-12-29T15:01:25.700851Z",
     "shell.execute_reply": "2020-12-29T15:01:25.700402Z"
    }
   },
   "outputs": [
    {
     "data": {
      "text/plain": [
       "<matplotlib.image.AxesImage at 0x7f818d088580>"
      ]
     },
     "execution_count": 1,
     "metadata": {},
     "output_type": "execute_result"
    }
   ],
   "source": [
    "plt.imshow(square_image)"
   ]
  },
  {
   "cell_type": "markdown",
   "metadata": {},
   "source": [
    "## Conversion back to hexagonal geometry"
   ]
  },
  {
   "cell_type": "code",
   "execution_count": 9,
   "metadata": {
    "execution": {
     "iopub.execute_input": "2020-12-29T15:01:25.705345Z",
     "iopub.status.busy": "2020-12-29T15:01:25.704297Z",
     "iopub.status.idle": "2020-12-29T15:01:25.706203Z",
     "shell.execute_reply": "2020-12-29T15:01:25.706649Z"
    }
   },
   "outputs": [],
   "source": [
    "hex_geom, hex_image = convert_geometry_rect2d_back_to_hexe1d(square_geom, square_image, key=key)"
   ]
  },
  {
   "cell_type": "code",
   "execution_count": 10,
   "metadata": {
    "execution": {
     "iopub.execute_input": "2020-12-29T15:01:26.027188Z",
     "iopub.status.busy": "2020-12-29T15:01:25.712946Z",
     "iopub.status.idle": "2020-12-29T15:01:26.199926Z",
     "shell.execute_reply": "2020-12-29T15:01:26.200395Z"
    }
   },
   "outputs": [
    {
     "data": {
      "text/plain": [
       "<ctapipe.visualization.mpl_camera.CameraDisplay at 0x7f818d0883d0>"
      ]
     },
     "execution_count": 1,
     "metadata": {},
     "output_type": "execute_result"
    }
   ],
   "source": [
    "CameraDisplay(hex_geom, hex_image)"
   ]
  },
  {
   "cell_type": "markdown",
   "metadata": {},
   "source": [
    "Let's check that the images are exactly the same:"
   ]
  },
  {
   "cell_type": "code",
   "execution_count": 11,
   "metadata": {
    "execution": {
     "iopub.execute_input": "2020-12-29T15:01:26.204401Z",
     "iopub.status.busy": "2020-12-29T15:01:26.203857Z",
     "iopub.status.idle": "2020-12-29T15:01:26.206831Z",
     "shell.execute_reply": "2020-12-29T15:01:26.207600Z"
    }
   },
   "outputs": [],
   "source": [
    "assert (hex_image == image).all()"
   ]
  },
  {
   "cell_type": "code",
   "execution_count": 12,
   "metadata": {
    "execution": {
     "iopub.execute_input": "2020-12-29T15:01:26.211932Z",
     "iopub.status.busy": "2020-12-29T15:01:26.211018Z",
     "iopub.status.idle": "2020-12-29T15:01:26.215012Z",
     "shell.execute_reply": "2020-12-29T15:01:26.215764Z"
    }
   },
   "outputs": [],
   "source": [
    "assert hex_geom == geometry"
   ]
  }
 ],
 "metadata": {
  "kernelspec": {
   "display_name": "Python 3",
   "language": "python",
   "name": "python3"
  },
  "language_info": {
   "codemirror_mode": {
    "name": "ipython",
    "version": 3
   },
   "file_extension": ".py",
   "mimetype": "text/x-python",
   "name": "python",
   "nbconvert_exporter": "python",
   "pygments_lexer": "ipython3",
   "version": "3.8.2"
  }
 },
 "nbformat": 4,
 "nbformat_minor": 2
}
