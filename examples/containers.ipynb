{
 "cells": [
  {
   "cell_type": "markdown",
   "metadata": {},
   "source": [
    "# Using Container classes\n",
    "\n",
    "`ctapipe.core.Container` is the base class for all event-wise data classes in ctapipe. It works like a object-relational mapper, in that it defines a set of `Fields` along with their metadata (description, unit, default), which can be later translated automatially into an output table using a `ctapipe.io.TableWriter`."
   ]
  },
  {
   "cell_type": "code",
   "execution_count": 1,
   "metadata": {
    "execution": {
     "iopub.execute_input": "2020-12-29T15:01:12.582306Z",
     "iopub.status.busy": "2020-12-29T15:01:12.581765Z",
     "iopub.status.idle": "2020-12-29T15:01:13.030297Z",
     "shell.execute_reply": "2020-12-29T15:01:13.029636Z"
    }
   },
   "outputs": [
    {
     "name": "stderr",
     "output_type": "stream",
     "text": [
      "/usr/local/lib/python3.8/site-packages/setuptools_scm/git.py:68: UserWarning: \"/github/workspace\" is shallow and may cause errors\n",
      "  warnings.warn('\"{}\" is shallow and may cause errors'.format(wd.path))\n"
     ]
    }
   ],
   "source": [
    "from ctapipe.core import Container, Field, Map\n",
    "import numpy as np\n",
    "from astropy import units as u"
   ]
  },
  {
   "cell_type": "markdown",
   "metadata": {},
   "source": [
    "Let's define a few example containers with some dummy fields in them:"
   ]
  },
  {
   "cell_type": "code",
   "execution_count": 2,
   "metadata": {
    "execution": {
     "iopub.execute_input": "2020-12-29T15:01:13.035943Z",
     "iopub.status.busy": "2020-12-29T15:01:13.035377Z",
     "iopub.status.idle": "2020-12-29T15:01:13.038653Z",
     "shell.execute_reply": "2020-12-29T15:01:13.039112Z"
    }
   },
   "outputs": [],
   "source": [
    "class SubContainer(Container):\n",
    "    junk = Field(\"nothing\",\"Some junk\")\n",
    "    value = Field(0.0, \"some value\", unit=u.deg)\n",
    "\n",
    "class EventContainer(Container):\n",
    "    event_id = Field(-1,\"event id number\")\n",
    "    tels_with_data = Field([], \"list of telescopes with data\")\n",
    "    sub = Field(SubContainer(), \"stuff\")  # a sub-container in the hierarchy\n",
    "\n",
    "    # for dicts of sub-containers, use Map instead \n",
    "    # of a dict() as the default value to support serialization\n",
    "    tel = Field(Map(), \"telescopes\")  \n"
   ]
  },
  {
   "cell_type": "markdown",
   "metadata": {},
   "source": [
    "## Basic features"
   ]
  },
  {
   "cell_type": "code",
   "execution_count": 3,
   "metadata": {
    "execution": {
     "iopub.execute_input": "2020-12-29T15:01:13.044361Z",
     "iopub.status.busy": "2020-12-29T15:01:13.042965Z",
     "iopub.status.idle": "2020-12-29T15:01:13.044997Z",
     "shell.execute_reply": "2020-12-29T15:01:13.045477Z"
    }
   },
   "outputs": [],
   "source": [
    "ev = EventContainer()"
   ]
  },
  {
   "cell_type": "markdown",
   "metadata": {},
   "source": [
    "Check that default values are automatically filled in"
   ]
  },
  {
   "cell_type": "code",
   "execution_count": 4,
   "metadata": {
    "execution": {
     "iopub.execute_input": "2020-12-29T15:01:13.051094Z",
     "iopub.status.busy": "2020-12-29T15:01:13.049788Z",
     "iopub.status.idle": "2020-12-29T15:01:13.056938Z",
     "shell.execute_reply": "2020-12-29T15:01:13.052702Z"
    }
   },
   "outputs": [
    {
     "name": "stdout",
     "output_type": "stream",
     "text": [
      "-1\n",
      "dict_keys([])\n",
      "Map(None, {})\n"
     ]
    }
   ],
   "source": [
    "print(ev.event_id)\n",
    "print(ev.tel.keys())\n",
    "print(ev.tel)"
   ]
  },
  {
   "cell_type": "markdown",
   "metadata": {},
   "source": [
    "print the json representation"
   ]
  },
  {
   "cell_type": "code",
   "execution_count": 5,
   "metadata": {
    "execution": {
     "iopub.execute_input": "2020-12-29T15:01:13.062244Z",
     "iopub.status.busy": "2020-12-29T15:01:13.061680Z",
     "iopub.status.idle": "2020-12-29T15:01:13.064126Z",
     "shell.execute_reply": "2020-12-29T15:01:13.064586Z"
    }
   },
   "outputs": [
    {
     "name": "stdout",
     "output_type": "stream",
     "text": [
      "{'event_id': -1,\n",
      " 'sub': {'junk': 'nothing', 'value': 0.0},\n",
      " 'tel': {},\n",
      " 'tels_with_data': []}\n"
     ]
    }
   ],
   "source": [
    "print(ev)"
   ]
  },
  {
   "cell_type": "markdown",
   "metadata": {},
   "source": [
    "values can be set as normal for a class:"
   ]
  },
  {
   "cell_type": "code",
   "execution_count": 6,
   "metadata": {
    "execution": {
     "iopub.execute_input": "2020-12-29T15:01:13.075522Z",
     "iopub.status.busy": "2020-12-29T15:01:13.074941Z",
     "iopub.status.idle": "2020-12-29T15:01:13.077747Z",
     "shell.execute_reply": "2020-12-29T15:01:13.078200Z"
    }
   },
   "outputs": [
    {
     "data": {
      "text/plain": [
       "100"
      ]
     },
     "execution_count": 1,
     "metadata": {},
     "output_type": "execute_result"
    }
   ],
   "source": [
    "ev.event_id = 100\n",
    "ev.event_id"
   ]
  },
  {
   "cell_type": "code",
   "execution_count": 7,
   "metadata": {
    "execution": {
     "iopub.execute_input": "2020-12-29T15:01:13.082422Z",
     "iopub.status.busy": "2020-12-29T15:01:13.081788Z",
     "iopub.status.idle": "2020-12-29T15:01:13.084499Z",
     "shell.execute_reply": "2020-12-29T15:01:13.085026Z"
    }
   },
   "outputs": [
    {
     "data": {
      "text/plain": [
       "{'event_id': 100,\n",
       " 'tels_with_data': [],\n",
       " 'sub': __main__.SubContainer:\n",
       "                           junk: Some junk\n",
       "                          value: some value [deg],\n",
       " 'tel': Map(None, {})}"
      ]
     },
     "execution_count": 1,
     "metadata": {},
     "output_type": "execute_result"
    }
   ],
   "source": [
    "ev.as_dict()  # by default only shows the bare items, not sub-containers (See later)"
   ]
  },
  {
   "cell_type": "code",
   "execution_count": 8,
   "metadata": {
    "execution": {
     "iopub.execute_input": "2020-12-29T15:01:13.091163Z",
     "iopub.status.busy": "2020-12-29T15:01:13.089267Z",
     "iopub.status.idle": "2020-12-29T15:01:13.093289Z",
     "shell.execute_reply": "2020-12-29T15:01:13.092793Z"
    }
   },
   "outputs": [
    {
     "data": {
      "text/plain": [
       "{'event_id': 100,\n",
       " 'tels_with_data': [],\n",
       " 'sub': {'junk': 'nothing', 'value': 0.0},\n",
       " 'tel': {}}"
      ]
     },
     "execution_count": 1,
     "metadata": {},
     "output_type": "execute_result"
    }
   ],
   "source": [
    "ev.as_dict(recursive=True)"
   ]
  },
  {
   "cell_type": "markdown",
   "metadata": {},
   "source": [
    "Now, let's define a sub-container that we can add per telescope:"
   ]
  },
  {
   "cell_type": "code",
   "execution_count": 9,
   "metadata": {
    "execution": {
     "iopub.execute_input": "2020-12-29T15:01:13.098876Z",
     "iopub.status.busy": "2020-12-29T15:01:13.097518Z",
     "iopub.status.idle": "2020-12-29T15:01:13.099495Z",
     "shell.execute_reply": "2020-12-29T15:01:13.099941Z"
    }
   },
   "outputs": [],
   "source": [
    "class TelContainer(Container):\n",
    "    tel_id = Field(-1, \"telescope ID number\")\n",
    "    image = Field(np.zeros(10), \"camera pixel data\")\n",
    "\n"
   ]
  },
  {
   "cell_type": "markdown",
   "metadata": {},
   "source": [
    "and we can add a few of these to the parent container inside the tel dict:"
   ]
  },
  {
   "cell_type": "code",
   "execution_count": 10,
   "metadata": {
    "execution": {
     "iopub.execute_input": "2020-12-29T15:01:13.107270Z",
     "iopub.status.busy": "2020-12-29T15:01:13.106055Z",
     "iopub.status.idle": "2020-12-29T15:01:13.107883Z",
     "shell.execute_reply": "2020-12-29T15:01:13.108331Z"
    }
   },
   "outputs": [],
   "source": [
    "ev.tel[10] = TelContainer()\n",
    "ev.tel[5] = TelContainer()\n",
    "ev.tel[42] = TelContainer()"
   ]
  },
  {
   "cell_type": "code",
   "execution_count": 11,
   "metadata": {
    "execution": {
     "iopub.execute_input": "2020-12-29T15:01:13.113457Z",
     "iopub.status.busy": "2020-12-29T15:01:13.112505Z",
     "iopub.status.idle": "2020-12-29T15:01:13.115293Z",
     "shell.execute_reply": "2020-12-29T15:01:13.115746Z"
    }
   },
   "outputs": [
    {
     "data": {
      "text/plain": [
       "Map(None,\n",
       "    {10: __main__.TelContainer:\n",
       "                             tel_id: telescope ID number\n",
       "                              image: camera pixel data,\n",
       "     5: __main__.TelContainer:\n",
       "                             tel_id: telescope ID number\n",
       "                              image: camera pixel data,\n",
       "     42: __main__.TelContainer:\n",
       "                             tel_id: telescope ID number\n",
       "                              image: camera pixel data})"
      ]
     },
     "execution_count": 1,
     "metadata": {},
     "output_type": "execute_result"
    }
   ],
   "source": [
    "ev.tel"
   ]
  },
  {
   "cell_type": "markdown",
   "metadata": {},
   "source": [
    "## Converion to dictionaries"
   ]
  },
  {
   "cell_type": "code",
   "execution_count": 12,
   "metadata": {
    "execution": {
     "iopub.execute_input": "2020-12-29T15:01:13.121091Z",
     "iopub.status.busy": "2020-12-29T15:01:13.120155Z",
     "iopub.status.idle": "2020-12-29T15:01:13.122802Z",
     "shell.execute_reply": "2020-12-29T15:01:13.123258Z"
    }
   },
   "outputs": [
    {
     "data": {
      "text/plain": [
       "{'event_id': 100,\n",
       " 'tels_with_data': [],\n",
       " 'sub': __main__.SubContainer:\n",
       "                           junk: Some junk\n",
       "                          value: some value [deg],\n",
       " 'tel': Map(None,\n",
       "     {10: __main__.TelContainer:\n",
       "                              tel_id: telescope ID number\n",
       "                               image: camera pixel data,\n",
       "      5: __main__.TelContainer:\n",
       "                              tel_id: telescope ID number\n",
       "                               image: camera pixel data,\n",
       "      42: __main__.TelContainer:\n",
       "                              tel_id: telescope ID number\n",
       "                               image: camera pixel data})}"
      ]
     },
     "execution_count": 1,
     "metadata": {},
     "output_type": "execute_result"
    }
   ],
   "source": [
    "ev.as_dict()"
   ]
  },
  {
   "cell_type": "code",
   "execution_count": 13,
   "metadata": {
    "execution": {
     "iopub.execute_input": "2020-12-29T15:01:13.129286Z",
     "iopub.status.busy": "2020-12-29T15:01:13.128323Z",
     "iopub.status.idle": "2020-12-29T15:01:13.130919Z",
     "shell.execute_reply": "2020-12-29T15:01:13.131370Z"
    }
   },
   "outputs": [
    {
     "data": {
      "text/plain": [
       "{'event_id': 100,\n",
       " 'tels_with_data': [],\n",
       " 'sub': {'junk': 'nothing', 'value': 0.0},\n",
       " 'tel': {10: {'tel_id': -1,\n",
       "   'image': array([0., 0., 0., 0., 0., 0., 0., 0., 0., 0.])},\n",
       "  5: {'tel_id': -1, 'image': array([0., 0., 0., 0., 0., 0., 0., 0., 0., 0.])},\n",
       "  42: {'tel_id': -1,\n",
       "   'image': array([0., 0., 0., 0., 0., 0., 0., 0., 0., 0.])}}}"
      ]
     },
     "execution_count": 1,
     "metadata": {},
     "output_type": "execute_result"
    }
   ],
   "source": [
    "ev.as_dict(recursive=True, flatten=False)"
   ]
  },
  {
   "cell_type": "markdown",
   "metadata": {},
   "source": [
    "for serialization to a table, we can even flatten the output into a single set of columns"
   ]
  },
  {
   "cell_type": "code",
   "execution_count": 14,
   "metadata": {
    "execution": {
     "iopub.execute_input": "2020-12-29T15:01:13.136920Z",
     "iopub.status.busy": "2020-12-29T15:01:13.136146Z",
     "iopub.status.idle": "2020-12-29T15:01:13.138675Z",
     "shell.execute_reply": "2020-12-29T15:01:13.139148Z"
    }
   },
   "outputs": [
    {
     "data": {
      "text/plain": [
       "{'event_id': 100,\n",
       " 'tels_with_data': [],\n",
       " 'sub_junk': 'nothing',\n",
       " 'sub_value': 0.0,\n",
       " 'tel_10': {'tel_id': -1,\n",
       "  'image': array([0., 0., 0., 0., 0., 0., 0., 0., 0., 0.])},\n",
       " 'tel_5': {'tel_id': -1,\n",
       "  'image': array([0., 0., 0., 0., 0., 0., 0., 0., 0., 0.])},\n",
       " 'tel_42': {'tel_id': -1,\n",
       "  'image': array([0., 0., 0., 0., 0., 0., 0., 0., 0., 0.])}}"
      ]
     },
     "execution_count": 1,
     "metadata": {},
     "output_type": "execute_result"
    }
   ],
   "source": [
    "ev.as_dict(recursive=True, flatten=True)"
   ]
  },
  {
   "cell_type": "markdown",
   "metadata": {},
   "source": [
    "## Setting and clearing values"
   ]
  },
  {
   "cell_type": "code",
   "execution_count": 15,
   "metadata": {
    "execution": {
     "iopub.execute_input": "2020-12-29T15:01:13.146135Z",
     "iopub.status.busy": "2020-12-29T15:01:13.144952Z",
     "iopub.status.idle": "2020-12-29T15:01:13.147980Z",
     "shell.execute_reply": "2020-12-29T15:01:13.147505Z"
    }
   },
   "outputs": [
    {
     "name": "stdout",
     "output_type": "stream",
     "text": [
      "{'event_id': 100,\n",
      " 'sub': {'junk': 'nothing', 'value': 0.0},\n",
      " 'tel': {5: {'image': array([9., 9., 9., 9., 9., 9., 9., 9., 9., 9.]),\n",
      "             'tel_id': -1},\n",
      "         10: {'image': array([0., 0., 0., 0., 0., 0., 0., 0., 0., 0.]),\n",
      "              'tel_id': -1},\n",
      "         42: {'image': array([0., 0., 0., 0., 0., 0., 0., 0., 0., 0.]),\n",
      "              'tel_id': -1}},\n",
      " 'tels_with_data': []}\n"
     ]
    }
   ],
   "source": [
    "ev.tel[5].image[:] = 9\n",
    "print(ev)"
   ]
  },
  {
   "cell_type": "code",
   "execution_count": 16,
   "metadata": {
    "execution": {
     "iopub.execute_input": "2020-12-29T15:01:13.152895Z",
     "iopub.status.busy": "2020-12-29T15:01:13.151960Z",
     "iopub.status.idle": "2020-12-29T15:01:13.154522Z",
     "shell.execute_reply": "2020-12-29T15:01:13.154996Z"
    }
   },
   "outputs": [
    {
     "data": {
      "text/plain": [
       "{'event_id': -1, 'tels_with_data': [], 'sub_junk': 'nothing', 'sub_value': 0.0}"
      ]
     },
     "execution_count": 1,
     "metadata": {},
     "output_type": "execute_result"
    }
   ],
   "source": [
    "ev.reset()\n",
    "ev.as_dict(recursive=True, flatten=True)"
   ]
  },
  {
   "cell_type": "markdown",
   "metadata": {},
   "source": [
    "## look at a pre-defined Container"
   ]
  },
  {
   "cell_type": "code",
   "execution_count": 17,
   "metadata": {
    "execution": {
     "iopub.execute_input": "2020-12-29T15:01:13.158363Z",
     "iopub.status.busy": "2020-12-29T15:01:13.157823Z",
     "iopub.status.idle": "2020-12-29T15:01:13.332718Z",
     "shell.execute_reply": "2020-12-29T15:01:13.332219Z"
    }
   },
   "outputs": [],
   "source": [
    "from ctapipe.containers import SimulatedShowerContainer"
   ]
  },
  {
   "cell_type": "code",
   "execution_count": 18,
   "metadata": {
    "execution": {
     "iopub.execute_input": "2020-12-29T15:01:13.337240Z",
     "iopub.status.busy": "2020-12-29T15:01:13.336039Z",
     "iopub.status.idle": "2020-12-29T15:01:13.337867Z",
     "shell.execute_reply": "2020-12-29T15:01:13.338314Z"
    }
   },
   "outputs": [],
   "source": [
    "shower = SimulatedShowerContainer()"
   ]
  },
  {
   "cell_type": "code",
   "execution_count": 19,
   "metadata": {
    "execution": {
     "iopub.execute_input": "2020-12-29T15:01:13.345576Z",
     "iopub.status.busy": "2020-12-29T15:01:13.344882Z",
     "iopub.status.idle": "2020-12-29T15:01:13.349706Z",
     "shell.execute_reply": "2020-12-29T15:01:13.349164Z"
    },
    "scrolled": true
   },
   "outputs": [
    {
     "data": {
      "text/plain": [
       "ctapipe.containers.SimulatedShowerContainer:\n",
       "                        energy: Simulated Energy [TeV]\n",
       "                           alt: Simulated altitude [deg]\n",
       "                            az: Simulated azimuth [deg]\n",
       "                        core_x: Simulated core position (x) [m]\n",
       "                        core_y: Simulated core position (y) [m]\n",
       "                   h_first_int: Height of first interaction [m]\n",
       "                         x_max: Simulated Xmax value [g / cm2]\n",
       "             shower_primary_id: Simulated shower primary ID 0 (gamma),\n",
       "                                1(e-),2(mu-), 100*A+Z for nucleons and\n",
       "                                nuclei,negative for antimatter."
      ]
     },
     "execution_count": 1,
     "metadata": {},
     "output_type": "execute_result"
    }
   ],
   "source": [
    "shower"
   ]
  }
 ],
 "metadata": {
  "anaconda-cloud": {},
  "kernelspec": {
   "display_name": "Python 3",
   "language": "python",
   "name": "python3"
  },
  "language_info": {
   "codemirror_mode": {
    "name": "ipython",
    "version": 3
   },
   "file_extension": ".py",
   "mimetype": "text/x-python",
   "name": "python",
   "nbconvert_exporter": "python",
   "pygments_lexer": "ipython3",
   "version": "3.8.2"
  }
 },
 "nbformat": 4,
 "nbformat_minor": 4
}
